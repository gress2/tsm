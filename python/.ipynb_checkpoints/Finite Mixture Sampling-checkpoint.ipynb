{
 "cells": [
  {
   "cell_type": "markdown",
   "metadata": {},
   "source": [
    "### Overview and notation\n",
    "\n",
    "Given a mixture distribution $H$ with global mean $\\mu$ and global variance $\\sigma^2$, we wish to find a parameterization $(w_i, \\mu_i, \\sigma_i)$ for $1\\leq i \\leq k$ the $k$ component distributions where $w_i$ is the weight of the $i^{\\text{th}}$ component distribution. For $H$ to be well defined, the following two properties should hold:\n",
    "\n",
    "$$\\tag{1}\\operatorname{E}[X]=\\sum_{i=1}^kw_i\\mu_i$$\n",
    "\n",
    "$$\\tag{2}\\operatorname{E}[(X-\\mu)^2]=\\sum_{i=1}^kw_i(\\mu_i^2+\\sigma^2_i)-\\mu^2$$\n",
    "\n",
    "where $X$ is a random variable drawn from $H$.\n",
    "\n",
    "#### Assumption of equally weighted components\n",
    "\n",
    "In our problem, we assume that each game state has an associated distribution representative of the reward you would accumulate from playing the game from the state until the end of the game. We make the assumption of the following method of sampling this distribution for rewards. \n",
    "\n",
    "Given the current state, we choose one of the state's $k$ children with uniform probability. This is repeated until a terminal state in the tree is reached. A contrasting method would be to calculate the number of leaf nodes under each of the $k$ children, $n_i$. By sampling uniformly at random one of leaf nodes in the tree, each of the immediate children has a likelihood of $\\frac{n_i}{\\sum_{i=1}^k{n_i}}$ of being chosen as the next move. Because we have no way of calculating the number of leaf nodes under each of the $k$ children in most cases, we instead use the first sampling method.\n",
    "\n",
    "This means that each of $k$ component distributions has a weight of $\\frac{1}{k}$ and, therefore,\n",
    "\n",
    "$$\\tag{3}\\operatorname{E}[X]=\\frac{1}{k}\\sum_{i=1}^k\\mu_i$$\n",
    "\n",
    "$$\\tag{4}\\operatorname{E}[(X-\\mu)^2]=\\frac{1}{k}\\sum_{i=1}^k(\\mu_i^2+\\sigma^2_i)-\\mu^2$$\n",
    "\n",
    "### Reparameterization\n",
    "\n",
    "Our original parameterization of $H$ was $\\mathbf{\\theta} = (\\mu,\\sigma,w_1,\\ldots,w_k,\\mu_1,\\ldots,\\mu_k,\\sigma_1,\\ldots,\\sigma_k)$. From our assumption of equally weighted components, we can simplify this to $(\\mu,\\sigma,\\mu_1,\\ldots,\\mu_k,\\sigma_1,\\ldots,\\sigma_k)$. We can further use the reparameterization suggested in Kamary et. al. [1]:\n",
    "\n",
    "$$\\theta = (\\mu,\\sigma,\\alpha_1,\\ldots,\\alpha_k,\\tau_1,\\ldots,\\tau_k)$$\n",
    "\n",
    "With this parameterization, $\\mu_i = \\mu + \\sigma\\alpha_i$ and $\\sigma_i = \\tau_i\\sigma$ where $\\tau_i>0$ and $\\alpha_i\\in\\mathbb{R}$. In this way, $\\alpha_i$ shifts the mean of each component by a factor of $\\sigma$. $\\tau_i$ scales $\\sigma_i$ by a factor of the global standard deviation. By (3) and (4) we know that $\\alpha_i$ and $\\tau_i$ are constrained by:\n",
    "\n",
    "$$\\tag{4}\\frac{1}{k}\\sum_{i=1}^k\\alpha_i=0$$\n",
    "$$\\tag{5}\\frac{1}{k}\\sum_{i=1}^k\\tau_i^2+\\frac{1}{k}\\sum_{i=1}^k\\alpha_i^2=1$$\n",
    "\n",
    "With simplification, we can see:\n",
    "\n",
    "$$\\tag{6}\\sum_{i=1}^k\\alpha_i=0$$\n",
    "$$\\tag{7}\\sum_{i=1}^k\\tau_i^2+\\sum_{i=1}^k\\alpha_i^2=k$$\n",
    "\n",
    "### Sampling $\\vec{\\alpha}$ and $\\vec{\\tau}$ simultaneously\n",
    "\n",
    "We can use a couple of tricks to sample $\\vec{\\alpha}$ and $\\vec{\\tau}$ such that (6) and (7) are met. First, we know we can sample a random point on a hypersphere of dimension $k$ with radius $r$ in the following way:\n",
    "\n",
    "First, sample $k$ random variables $x_1,\\ldots,x_n$ from a Gaussian distribution. Next, simply rescale $\\vec{x}$ to get a point on the hypersphere, $\\vec{p}$:\n",
    "\n",
    "$$\\vec{p} = \\frac{r}{||\\vec{x}||}\\vec{x}$$"
   ]
  },
  {
   "cell_type": "code",
   "execution_count": 51,
   "metadata": {},
   "outputs": [
    {
     "data": {
      "image/png": "[encoded data removed]",
      "text/plain": [
       "<Figure size 432x288 with 1 Axes>"
      ]
     },
     "metadata": {
      "needs_background": "light"
     },
     "output_type": "display_data"
    }
   ],
   "source": [
    "import numpy as np\n",
    "from matplotlib import pyplot as plt\n",
    "\n",
    "r = 4\n",
    "k = 2\n",
    "\n",
    "x = np.random.normal(0, 1, k)\n",
    "p = r / np.linalg.norm(x) * x\n",
    "\n",
    "# theta goes from 0 to 2pi\n",
    "theta = np.linspace(0, 2*np.pi, 100)\n",
    "\n",
    "# compute x1 and x2\n",
    "x1 = r*np.cos(theta)\n",
    "x2 = r*np.sin(theta)\n",
    "\n",
    "# create the figure\n",
    "fig, ax = plt.subplots(1)\n",
    "ax.plot(x1, x2)\n",
    "ax.plot(*p, 'o', markersize=10, color='red')\n",
    "ax.set_aspect(1)\n",
    "plt.show()"
   ]
  },
  {
   "cell_type": "code",
   "execution_count": null,
   "metadata": {},
   "outputs": [],
   "source": []
  }
 ],
 "metadata": {
  "kernelspec": {
   "display_name": "Python 3",
   "language": "python",
   "name": "python3"
  },
  "language_info": {
   "codemirror_mode": {
    "name": "ipython",
    "version": 3
   },
   "file_extension": ".py",
   "mimetype": "text/x-python",
   "name": "python",
   "nbconvert_exporter": "python",
   "pygments_lexer": "ipython3",
   "version": "3.6.4"
  }
 },
 "nbformat": 4,
 "nbformat_minor": 2
}
